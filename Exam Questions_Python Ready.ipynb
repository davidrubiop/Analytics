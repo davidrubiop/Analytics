{
 "cells": [
  {
   "cell_type": "markdown",
   "metadata": {},
   "source": [
    "<b>March 2020<br>\n",
    "Python Question Development - Machine Learning</b><br>\n",
    "by David Rubio - MSc Business Analytics<br>\n",
    "Hult International Business School   "
   ]
  },
  {
   "cell_type": "markdown",
   "metadata": {},
   "source": [
    "<h2>Conditional Statements</h2><br>\n",
    "Imagine Harry Potter is training with this game before his next battle.<br>\n",
    "Having the following code:"
   ]
  },
  {
   "cell_type": "code",
   "execution_count": null,
   "metadata": {
    "deletable": false,
    "editable": false
   },
   "outputs": [],
   "source": [
    "harry_life = 100\n",
    "stage_1    = [1, 3, 5, 7, 9]\n",
    "stage_2    = [2, 4, 6, 8, 10]\n",
    "\n",
    "while harry_life > 0:\n",
    "    guess = int(input('> Guess a number from 1 to 10 to advance to Stage 2 '))\n",
    "    \n",
    "    if guess in stage_1:\n",
    "        print('Correct, go to the next stage')\n",
    "        \n",
    "        while harry_life > 0:\n",
    "            guess_2 = int(input('> Guess a number from 1 to 10 to win the game! '))\n",
    "            \n",
    "            if guess_2 in stage_2:\n",
    "                print(f'Correct, you win having {harry_life} life points! ')\n",
    "                harry_life = -1                 \n",
    "            else:\n",
    "                harry_life -=10\n",
    "                print('Wrong!')            \n",
    "    else:\n",
    "        harry_life -=20\n",
    "        print('Wrong!')\n",
    "        \n",
    "if harry_life == 0:    \n",
    "    print(\"You have no life points left, better luck next time!\")\n",
    "else:\n",
    "    print('Congratulations Wizard!')"
   ]
  },
  {
   "cell_type": "markdown",
   "metadata": {},
   "source": [
    "Assume that Harry entered the following numbers in order (one per system prompt):<br>\n",
    "4, 2, 7, 1, 9, 3, 10<br>\n",
    "<h3>Which of the following would be a valid output? </h3><br>    \n",
    "A. Correct, you win having 29 life points!<br>\n",
    "B. Correct, you win having 30 life points! [Right Answer]!! <br>\n",
    "C. You have no life points left, better luck next time!<br>\n",
    "D. Harry would lose before entering all the numbers.<br>\n",
    "E. C and D are correct.<br>"
   ]
  },
  {
   "cell_type": "markdown",
   "metadata": {},
   "source": [
    "<h2> Lists and/or list operations</h2><br>\n",
    "Having the following code:"
   ]
  },
  {
   "cell_type": "code",
   "execution_count": null,
   "metadata": {
    "deletable": false,
    "editable": false
   },
   "outputs": [],
   "source": [
    "my_list    = [\"David\"]\n",
    "\n",
    "ans_list   = [(input(prompt = \"What's your last name? \").capitalize())]\n",
    "\n",
    "total_list = my_list + ans_list\n",
    "\n",
    "total_list.append('is about to finish his degree in Business Analytics')\n",
    "\n",
    "print(total_list)"
   ]
  },
  {
   "cell_type": "markdown",
   "metadata": {},
   "source": [
    "Assume that you entered the word: rubio<br>\n",
    "<h3>Which of the following would be a valid output? </h3><br>\n",
    "A. ['David', 'rubio', 'is about to finish his degree in Business Analytics'] <br>\n",
    "B. [David, Rubio, is about to finish his degree in Business Analytics] <br>\n",
    "C. ['David rubio', 'is about to finish his degree in Business Analytics'] <br>\n",
    "D. [David Rubio is about to finish his degree in Business Analytics] <br>\n",
    "E. None of the above. [Right Answer]!! <br>\n",
    "\n",
    "\n",
    "[Actual Output]: ['David', 'Rubio', 'is about to finish his degree in Business Analytics']"
   ]
  },
  {
   "cell_type": "markdown",
   "metadata": {},
   "source": [
    "<h2>Dictionaries and/or dictionary operations</h2><br>\n",
    "Consider the following dictionary about the current teams<br>\n",
    "of some of the best professional soccer players:"
   ]
  },
  {
   "cell_type": "code",
   "execution_count": null,
   "metadata": {
    "deletable": false,
    "editable": false
   },
   "outputs": [],
   "source": [
    "soccer_players = {\n",
    "                'neymar jr'        :'Paris Saint-Germain FC',\n",
    "                'lionel messi'     :'FC Barcelona',\n",
    "                'cristiano ronaldo':'Real Madrid CF',\n",
    "                'eden hazard'      :'Real Madrid CF',\n",
    "                'mohamed salah'    :'Liverpool FC',\n",
    "                'iker casillas'    :'FC Porto',\n",
    "                'manuel neuer'     : 'FC Bayern Munich'\n",
    "                }"
   ]
  },
  {
   "cell_type": "markdown",
   "metadata": {},
   "source": [
    "BREAKING NEWS!<br>\n",
    "Iker Casillas has announced his retirement from professional soccer.<br>\n",
    "It is your task to make his record dissapear from the dictionary.<br>\n",
    "Also, Cristiano Ronaldo just agreed a transfer from Real Madrid CF to Juventus FC.<br>\n",
    "You must update his record right away.<br>\n",
    "<h3>Complete the code below to perform these two actions </h3><br>"
   ]
  },
  {
   "cell_type": "code",
   "execution_count": null,
   "metadata": {
    "deletable": false,
    "editable": false
   },
   "outputs": [],
   "source": [
    "___ soccer_players[ ___ ]\n",
    "soccer_players[ ___ ] = ___"
   ]
  },
  {
   "cell_type": "markdown",
   "metadata": {},
   "source": [
    "[Expected Answer]!!<br>\n",
    "del soccer_players['iker casillas']<br>\n",
    "soccer_players['cristiano ronaldo'] = 'Juventus FC'"
   ]
  },
  {
   "cell_type": "markdown",
   "metadata": {},
   "source": [
    "<h2>Loops</h2><br>\n",
    "A Formula 1 team has a sensor to record every lap time the team's pilot performs.<br>\n",
    "What is more, the sensor is saving only the time difference between each lap<br>\n",
    "vs. last year's record lap. It created the following list to store this information:<br>\n"
   ]
  },
  {
   "cell_type": "code",
   "execution_count": null,
   "metadata": {
    "deletable": false,
    "editable": false
   },
   "outputs": [],
   "source": [
    "dif_times = [0.990139, 0.991079, 0.909905, 0.990899, 0.923879]"
   ]
  },
  {
   "cell_type": "markdown",
   "metadata": {},
   "source": [
    "The business analyst realized that the sensor stores the time with 6 decimals.<br>\n",
    "His manager has requested both the greater difference (the largest number), and<br>\n",
    "the lowest difference (the smallest number) with 4 decimals.<br>\n",
    "<h3>Help the business analyst to complete the code that will help him/her get the numbers</h3>"
   ]
  },
  {
   "cell_type": "code",
   "execution_count": null,
   "metadata": {
    "deletable": false,
    "editable": false
   },
   "outputs": [],
   "source": [
    "new_dif_times = []\n",
    "\n",
    "for i in dif_times:\n",
    "    time = round(i, ___)\n",
    "    new_dif_times.___(time)\n",
    "\n",
    "new_dif_times.___()\n",
    "    \n",
    "print(new_dif_times[0])\n",
    "print(new_dif_times[___])"
   ]
  },
  {
   "cell_type": "markdown",
   "metadata": {},
   "source": [
    "[Expected Answer]!!<br>\n",
    "new_dif_times = [ ]<br>\n",
    "\n",
    "for i in dif_times:<br>\n",
    "    time = round(i, 4)<br>\n",
    "    new_dif_times.append(time)<br>\n",
    "\n",
    "new_dif_times.sort()<br>\n",
    "    \n",
    "print(new_dif_times[0])<br>\n",
    "print(new_dif_times[-1])<br>"
   ]
  },
  {
   "cell_type": "markdown",
   "metadata": {},
   "source": [
    "<h2>User defined functions</h2><br>\n",
    "We asked 5 random people to tell us their favorite fictional character from a tv show.<br>\n",
    "Assume these answers stored on a list:<br>"
   ]
  },
  {
   "cell_type": "code",
   "execution_count": null,
   "metadata": {
    "deletable": false,
    "editable": false
   },
   "outputs": [],
   "source": [
    "answers = ['HoMeR sIMPsON', 'GOKU', 'SpongeBob', 'dARTH vADER', 'eric cartman']"
   ]
  },
  {
   "cell_type": "markdown",
   "metadata": {},
   "source": [
    "Consider the following function:<br>\n",
    "*Notice it has no DocString on purpose for this exercise:<br>"
   ]
  },
  {
   "cell_type": "code",
   "execution_count": null,
   "metadata": {
    "deletable": false,
    "editable": false
   },
   "outputs": [],
   "source": [
    "def format_word(x, desc = False):\n",
    " \n",
    "    new_list = []\n",
    "    \n",
    "    for i in x:\n",
    "        new_word   = i.lower()\n",
    "        final_word = new_word.capitalize()\n",
    "        new_list.append(final_word)\n",
    "    \n",
    "    if desc == True:\n",
    "        new_list.sort(reverse = True)\n",
    "    \n",
    "    else:\n",
    "        new_list.sort()\n",
    "    \n",
    "    return new_list"
   ]
  },
  {
   "cell_type": "markdown",
   "metadata": {},
   "source": [
    "If you call the function as follows:<br>"
   ]
  },
  {
   "cell_type": "code",
   "execution_count": null,
   "metadata": {
    "deletable": false,
    "editable": false
   },
   "outputs": [],
   "source": [
    "format_word(answers, desc = True)"
   ]
  },
  {
   "cell_type": "markdown",
   "metadata": {},
   "source": [
    "\n",
    "<h3>Which of the following would be the output? </h3><br>    \n",
    "A. ['Darth vader', 'Eric cartman', 'Goku', 'Homer simpson', 'Spongebob']<br>\n",
    "B. ['Spongebob', 'Homer Simpson', 'Goku', 'Eric Cartman', 'Darth Vader']  <br>\n",
    "C. ['Spongebob', 'Homer simpson', 'Goku', 'Eric cartman', 'Darth vader'] [Right Answer]!!<br>\n",
    "D. ['Darth Vader', 'Eric Cartman', 'Goku', 'Homer Simpson', 'Spongebob']<br>\n",
    "E. None of the above.<br>"
   ]
  }
 ],
 "metadata": {
  "kernelspec": {
   "display_name": "Python 3",
   "language": "python",
   "name": "python3"
  },
  "language_info": {
   "codemirror_mode": {
    "name": "ipython",
    "version": 3
   },
   "file_extension": ".py",
   "mimetype": "text/x-python",
   "name": "python",
   "nbconvert_exporter": "python",
   "pygments_lexer": "ipython3",
   "version": "3.7.4"
  },
  "toc": {
   "base_numbering": 1,
   "nav_menu": {},
   "number_sections": true,
   "sideBar": true,
   "skip_h1_title": false,
   "title_cell": "Table of Contents",
   "title_sidebar": "Contents",
   "toc_cell": false,
   "toc_position": {},
   "toc_section_display": true,
   "toc_window_display": false
  },
  "varInspector": {
   "cols": {
    "lenName": 16,
    "lenType": 16,
    "lenVar": 40
   },
   "kernels_config": {
    "python": {
     "delete_cmd_postfix": "",
     "delete_cmd_prefix": "del ",
     "library": "var_list.py",
     "varRefreshCmd": "print(var_dic_list())"
    },
    "r": {
     "delete_cmd_postfix": ") ",
     "delete_cmd_prefix": "rm(",
     "library": "var_list.r",
     "varRefreshCmd": "cat(var_dic_list()) "
    }
   },
   "types_to_exclude": [
    "module",
    "function",
    "builtin_function_or_method",
    "instance",
    "_Feature"
   ],
   "window_display": false
  }
 },
 "nbformat": 4,
 "nbformat_minor": 2
}
